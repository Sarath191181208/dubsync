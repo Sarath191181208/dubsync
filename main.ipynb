{
 "cells": [
  {
   "cell_type": "code",
   "execution_count": 9,
   "metadata": {},
   "outputs": [],
   "source": [
    "from pathlib import Path\n",
    "import re\n",
    "import pandas as pd\n",
    "import pytube\n",
    "from pytube.cli import on_progress\n",
    "from pytube.streams import Stream\n",
    "import tqdm\n",
    "from moviepy.video.io.VideoFileClip import VideoFileClip\n",
    "from multiprocessing.dummy import Pool as ThreadPool\n",
    "from pytube.monostate import Monostate"
   ]
  },
  {
   "cell_type": "code",
   "execution_count": null,
   "metadata": {},
   "outputs": [],
   "source": [
    "folder_name = \"./videos/\""
   ]
  },
  {
   "cell_type": "code",
   "execution_count": 14,
   "metadata": {},
   "outputs": [],
   "source": [
    "def get_id_from_youtube_url(url: str) -> pd.Series:\n",
    "    pattern = re.compile(r\"(?:\\/|%3D|v=|vi=)([0-9A-Za-z_-]{11})(?:[%#?&]|$)\")\n",
    "    match = pattern.search(url)\n",
    "    return match.group(1) if match else None\n",
    "\n",
    "def download_video(video_stream: Stream, file_name: str) -> bool:\n",
    "    output_file_path = str(\n",
    "        (Path(folder_name) / f\"{file_name}.mp4\").resolve())\n",
    "    try:\n",
    "        video_stream.download(filename=output_file_path)\n",
    "    except Exception as e:\n",
    "        print(e)\n",
    "        return False\n",
    "    return True\n"
   ]
  },
  {
   "cell_type": "code",
   "execution_count": 15,
   "metadata": {},
   "outputs": [
    {
     "data": {
      "text/html": [
       "<div>\n",
       "<style scoped>\n",
       "    .dataframe tbody tr th:only-of-type {\n",
       "        vertical-align: middle;\n",
       "    }\n",
       "\n",
       "    .dataframe tbody tr th {\n",
       "        vertical-align: top;\n",
       "    }\n",
       "\n",
       "    .dataframe thead th {\n",
       "        text-align: right;\n",
       "    }\n",
       "</style>\n",
       "<table border=\"1\" class=\"dataframe\">\n",
       "  <thead>\n",
       "    <tr style=\"text-align: right;\">\n",
       "      <th></th>\n",
       "      <th>S.no</th>\n",
       "      <th>Title</th>\n",
       "      <th>link</th>\n",
       "      <th>time stamp</th>\n",
       "      <th>Sex</th>\n",
       "    </tr>\n",
       "  </thead>\n",
       "  <tbody>\n",
       "    <tr>\n",
       "      <th>0</th>\n",
       "      <td>1.0</td>\n",
       "      <td>Vedantu FRAUD | Vedantu Reality Exposed | Why ...</td>\n",
       "      <td>https://youtu.be/_NRnL25GSBc</td>\n",
       "      <td>1,11</td>\n",
       "      <td>Female</td>\n",
       "    </tr>\n",
       "    <tr>\n",
       "      <th>1</th>\n",
       "      <td>2.0</td>\n",
       "      <td>Ankana Mam's Phone Number *actually* got Leaked</td>\n",
       "      <td>https://youtu.be/ZthrAcubnYU</td>\n",
       "      <td>54,64</td>\n",
       "      <td>Female</td>\n",
       "    </tr>\n",
       "    <tr>\n",
       "      <th>2</th>\n",
       "      <td>3.0</td>\n",
       "      <td>Quadratic Equations Class 11 JEE🔥 [Most Repeat...</td>\n",
       "      <td>https://youtu.be/bT6qXUZGDYs</td>\n",
       "      <td>1,11</td>\n",
       "      <td>Female</td>\n",
       "    </tr>\n",
       "    <tr>\n",
       "      <th>3</th>\n",
       "      <td>4.0</td>\n",
       "      <td>Vedantu DISRUPTS Indian Education System! AI l...</td>\n",
       "      <td>https://www.youtube.com/live/VFp-L1fKSzM?featu...</td>\n",
       "      <td>4,14</td>\n",
       "      <td>male</td>\n",
       "    </tr>\n",
       "    <tr>\n",
       "      <th>4</th>\n",
       "      <td>5.0</td>\n",
       "      <td>How to Clear JEE in First Attempt...?😮🤷‍♂️ [Co...</td>\n",
       "      <td>https://youtu.be/pUQkQOQgNM4</td>\n",
       "      <td>1,11</td>\n",
       "      <td>male</td>\n",
       "    </tr>\n",
       "  </tbody>\n",
       "</table>\n",
       "</div>"
      ],
      "text/plain": [
       "   S.no                                              Title  \\\n",
       "0   1.0  Vedantu FRAUD | Vedantu Reality Exposed | Why ...   \n",
       "1   2.0    Ankana Mam's Phone Number *actually* got Leaked   \n",
       "2   3.0  Quadratic Equations Class 11 JEE🔥 [Most Repeat...   \n",
       "3   4.0  Vedantu DISRUPTS Indian Education System! AI l...   \n",
       "4   5.0  How to Clear JEE in First Attempt...?😮🤷‍♂️ [Co...   \n",
       "\n",
       "                                                link time stamp     Sex  \n",
       "0                       https://youtu.be/_NRnL25GSBc       1,11  Female  \n",
       "1                       https://youtu.be/ZthrAcubnYU      54,64  Female  \n",
       "2                       https://youtu.be/bT6qXUZGDYs       1,11  Female  \n",
       "3  https://www.youtube.com/live/VFp-L1fKSzM?featu...       4,14    male  \n",
       "4                       https://youtu.be/pUQkQOQgNM4       1,11    male  "
      ]
     },
     "execution_count": 15,
     "metadata": {},
     "output_type": "execute_result"
    }
   ],
   "source": [
    "df = pd.read_excel('./Book1.xlsx')\n",
    "df = df.drop(['Unnamed: 0'], axis=1, errors=\"ignore\")\n",
    "df.head()"
   ]
  },
  {
   "cell_type": "code",
   "execution_count": 16,
   "metadata": {},
   "outputs": [
    {
     "data": {
      "text/html": [
       "<div>\n",
       "<style scoped>\n",
       "    .dataframe tbody tr th:only-of-type {\n",
       "        vertical-align: middle;\n",
       "    }\n",
       "\n",
       "    .dataframe tbody tr th {\n",
       "        vertical-align: top;\n",
       "    }\n",
       "\n",
       "    .dataframe thead th {\n",
       "        text-align: right;\n",
       "    }\n",
       "</style>\n",
       "<table border=\"1\" class=\"dataframe\">\n",
       "  <thead>\n",
       "    <tr style=\"text-align: right;\">\n",
       "      <th></th>\n",
       "      <th>S.no</th>\n",
       "      <th>Title</th>\n",
       "      <th>link</th>\n",
       "      <th>time stamp</th>\n",
       "      <th>Sex</th>\n",
       "      <th>start</th>\n",
       "      <th>end</th>\n",
       "      <th>video_id</th>\n",
       "    </tr>\n",
       "  </thead>\n",
       "  <tbody>\n",
       "    <tr>\n",
       "      <th>0</th>\n",
       "      <td>1.0</td>\n",
       "      <td>Vedantu FRAUD | Vedantu Reality Exposed | Why ...</td>\n",
       "      <td>https://youtu.be/_NRnL25GSBc</td>\n",
       "      <td>1,11</td>\n",
       "      <td>Female</td>\n",
       "      <td>1</td>\n",
       "      <td>11</td>\n",
       "      <td>_NRnL25GSBc</td>\n",
       "    </tr>\n",
       "    <tr>\n",
       "      <th>1</th>\n",
       "      <td>2.0</td>\n",
       "      <td>Ankana Mam's Phone Number *actually* got Leaked</td>\n",
       "      <td>https://youtu.be/ZthrAcubnYU</td>\n",
       "      <td>54,64</td>\n",
       "      <td>Female</td>\n",
       "      <td>54</td>\n",
       "      <td>64</td>\n",
       "      <td>ZthrAcubnYU</td>\n",
       "    </tr>\n",
       "    <tr>\n",
       "      <th>2</th>\n",
       "      <td>3.0</td>\n",
       "      <td>Quadratic Equations Class 11 JEE🔥 [Most Repeat...</td>\n",
       "      <td>https://youtu.be/bT6qXUZGDYs</td>\n",
       "      <td>1,11</td>\n",
       "      <td>Female</td>\n",
       "      <td>1</td>\n",
       "      <td>11</td>\n",
       "      <td>bT6qXUZGDYs</td>\n",
       "    </tr>\n",
       "    <tr>\n",
       "      <th>3</th>\n",
       "      <td>4.0</td>\n",
       "      <td>Vedantu DISRUPTS Indian Education System! AI l...</td>\n",
       "      <td>https://www.youtube.com/live/VFp-L1fKSzM?featu...</td>\n",
       "      <td>4,14</td>\n",
       "      <td>male</td>\n",
       "      <td>4</td>\n",
       "      <td>14</td>\n",
       "      <td>VFp-L1fKSzM</td>\n",
       "    </tr>\n",
       "    <tr>\n",
       "      <th>4</th>\n",
       "      <td>5.0</td>\n",
       "      <td>How to Clear JEE in First Attempt...?😮🤷‍♂️ [Co...</td>\n",
       "      <td>https://youtu.be/pUQkQOQgNM4</td>\n",
       "      <td>1,11</td>\n",
       "      <td>male</td>\n",
       "      <td>1</td>\n",
       "      <td>11</td>\n",
       "      <td>pUQkQOQgNM4</td>\n",
       "    </tr>\n",
       "  </tbody>\n",
       "</table>\n",
       "</div>"
      ],
      "text/plain": [
       "   S.no                                              Title  \\\n",
       "0   1.0  Vedantu FRAUD | Vedantu Reality Exposed | Why ...   \n",
       "1   2.0    Ankana Mam's Phone Number *actually* got Leaked   \n",
       "2   3.0  Quadratic Equations Class 11 JEE🔥 [Most Repeat...   \n",
       "3   4.0  Vedantu DISRUPTS Indian Education System! AI l...   \n",
       "4   5.0  How to Clear JEE in First Attempt...?😮🤷‍♂️ [Co...   \n",
       "\n",
       "                                                link time stamp     Sex start  \\\n",
       "0                       https://youtu.be/_NRnL25GSBc       1,11  Female     1   \n",
       "1                       https://youtu.be/ZthrAcubnYU      54,64  Female    54   \n",
       "2                       https://youtu.be/bT6qXUZGDYs       1,11  Female     1   \n",
       "3  https://www.youtube.com/live/VFp-L1fKSzM?featu...       4,14    male     4   \n",
       "4                       https://youtu.be/pUQkQOQgNM4       1,11    male     1   \n",
       "\n",
       "  end     video_id  \n",
       "0  11  _NRnL25GSBc  \n",
       "1  64  ZthrAcubnYU  \n",
       "2  11  bT6qXUZGDYs  \n",
       "3  14  VFp-L1fKSzM  \n",
       "4  11  pUQkQOQgNM4  "
      ]
     },
     "execution_count": 16,
     "metadata": {},
     "output_type": "execute_result"
    }
   ],
   "source": [
    "link_column = 'link'\n",
    "time_stamp_column = 'time stamp'\n",
    "# drop if the linkcolumn or time_stamp_column is empty\n",
    "df = df.dropna(subset=[link_column, time_stamp_column])\n",
    "# extract time stamp into start and end columns\n",
    "df[['start', 'end']] = df[time_stamp_column].str.split(',', expand=True)\n",
    "# extract the video id from the link\n",
    "df['video_id'] = df[link_column].apply(get_id_from_youtube_url)\n",
    "df.head()"
   ]
  },
  {
   "cell_type": "code",
   "execution_count": 30,
   "metadata": {},
   "outputs": [],
   "source": [
    "def is_match(start_time_1: str, end_time_1: str, start_time_2: str, end_time_2: str) -> bool:\n",
    "    # Convert start and end times to seconds\n",
    "    start_1_sec = to_seconds(start_time_1)\n",
    "    end_1_sec = to_seconds(end_time_1)\n",
    "    start_2_sec = to_seconds(start_time_2)\n",
    "    end_2_sec = to_seconds(end_time_2)\n",
    "\n",
    "    # Check if the time windows overlap\n",
    "    return start_1_sec <= end_2_sec and end_1_sec >= start_2_sec\n",
    "\n",
    "def to_seconds(time: str) -> float:\n",
    "    parts = time.split(':')\n",
    "    times = [3600, 60, 1]\n",
    "    parts = ['0'] * (3 - len(parts)) + parts # add zeros to the beginning of the list if the time is not in the format hh:mm:ss\n",
    "    return sum([int(part) * time for part, time in zip(parts, times)])"
   ]
  },
  {
   "cell_type": "code",
   "execution_count": null,
   "metadata": {},
   "outputs": [],
   "source": [
    "from collections import defaultdict\n",
    "\n",
    "new_df = [] \n",
    "\n",
    "video_id = str\n",
    "time_window = tuple[str, str]\n",
    "counting_dict: dict[video_id, list[time_window]] = defaultdict(list)\n",
    "vid_id_counting_dict: dict[video_id, int] = defaultdict(int)\n",
    "\n",
    "def is_time_window_already_present(time_windows_list: list[time_window], start_time: str, end_time: str) -> bool:\n",
    "    for start_1, end_1 in time_windows_list:\n",
    "        if is_match(start_1, end_1, start_time, end_time): # If already present \n",
    "            return False\n",
    "    return True\n",
    "\n",
    "for index, row in df.iterrows():\n",
    "    video_id = row['video_id']\n",
    "    start = row['start']\n",
    "    end = row['end']\n",
    "\n",
    "    vid_id_counting_dict[video_id] += 1\n",
    "\n",
    "    if vid_id_counting_dict[video_id] > 3: \n",
    "        print(\"Already has more than three videoos with the same id\")\n",
    "        continue\n",
    "\n",
    "    if video_id in counting_dict:\n",
    "        if not is_time_window_already_present(counting_dict[video_id], start, end):\n",
    "            counting_dict[video_id].append((start, end))"
   ]
  },
  {
   "cell_type": "code",
   "execution_count": 17,
   "metadata": {},
   "outputs": [],
   "source": [
    "test_df = df.head(3)"
   ]
  },
  {
   "cell_type": "code",
   "execution_count": 29,
   "metadata": {},
   "outputs": [
    {
     "name": "stderr",
     "output_type": "stream",
     "text": [
      "100%|██████████| 3/3 [00:06<00:00,  2.09s/it]\n"
     ]
    }
   ],
   "source": [
    "total_size_files_bytes = 0\n",
    "no_4k_stream = []\n",
    "yt_streams = []\n",
    "stream_progress_bar = tqdm.tqdm(total=len(test_df))\n",
    "\n",
    "for index, row in test_df.iterrows():\n",
    "    url = row[link_column]\n",
    "    youtube = pytube.YouTube(url, on_progress_callback=on_progress).streams.filter(res=\"2160p\").first()\n",
    "    if youtube is None:\n",
    "        print(\"No 4K video stream available\")\n",
    "        no_4k_stream.append(url)\n",
    "        continue\n",
    "    total_size_files_bytes += youtube.filesize\n",
    "    yt_streams.append(youtube)\n",
    "    stream_progress_bar.update(1)\n",
    "\n",
    "stream_progress_bar.close() "
   ]
  },
  {
   "cell_type": "code",
   "execution_count": 30,
   "metadata": {},
   "outputs": [],
   "source": [
    "# create folder videos if it doesn't exist\n",
    "Path(folder_name).mkdir(parents=True, exist_ok=True)"
   ]
  },
  {
   "cell_type": "code",
   "execution_count": null,
   "metadata": {},
   "outputs": [],
   "source": [
    "pbar = tqdm.tqdm(total = len(yt_streams))\n",
    "for stream, vid_id in zip(yt_streams, test_df['video_id']):\n",
    "    results = download_video(stream, vid_id)\n",
    "    pbar.update(1)\n",
    "del pbar"
   ]
  },
  {
   "cell_type": "code",
   "execution_count": 32,
   "metadata": {},
   "outputs": [],
   "source": [
    "def trim_vid(input_file: Path, start_time: str, end_time: str):\n",
    "    input_file_path = str(input_file.resolve())\n",
    "    file_name = input_file.stem\n",
    "    # .subclip(startseconds, endseconds)\n",
    "    trimmedvideo = VideoFileClip(\n",
    "        input_file_path).subclip(start_time, end_time)\n",
    "    folder_path = Path(folder_name)\n",
    "    new_file_name = Path(f\"{file_name}-trimmed.mp4\")\n",
    "    out_file_path = folder_path / new_file_name\n",
    "    trimmedvideo.write_videofile(\n",
    "        out_file_path, temp_audiofile=\"temp-audio.m4a\")"
   ]
  },
  {
   "cell_type": "code",
   "execution_count": 33,
   "metadata": {},
   "outputs": [],
   "source": [
    "# go to the videos folder if the video has -trimmed in the name skip it else trim the video \n",
    "skip_vids = set()\n",
    "trim_vid_args: list[tuple[Path, str, str]] = []\n",
    "for file in Path(folder_name).iterdir():\n",
    "    if '-trimmed' in file.name or file.name in skip_vids:\n",
    "        skip_vids.add(file.name)\n",
    "        continue\n",
    "    video_id = file.stem\n",
    "    start_time = test_df[test_df['video_id'] == video_id]['start'].values[0]\n",
    "    end_time = test_df[test_df['video_id'] == video_id]['end'].values[0]\n",
    "    trim_vid_args.append((file, start_time, end_time))"
   ]
  },
  {
   "cell_type": "code",
   "execution_count": null,
   "metadata": {},
   "outputs": [],
   "source": [
    "pbar = tqdm.tqdm(total=len(trim_vid_args))\n",
    "# use multi threading to trim the videos\n",
    "for input_file, start_time, end_time in trim_vid_args:\n",
    "    trim_vid(input_file, start_time, end_time)\n",
    "    pbar.update(1)"
   ]
  }
 ],
 "metadata": {
  "kernelspec": {
   "display_name": "base",
   "language": "python",
   "name": "python3"
  },
  "language_info": {
   "codemirror_mode": {
    "name": "ipython",
    "version": 3
   },
   "file_extension": ".py",
   "mimetype": "text/x-python",
   "name": "python",
   "nbconvert_exporter": "python",
   "pygments_lexer": "ipython3",
   "version": "3.9.13"
  },
  "orig_nbformat": 4,
  "vscode": {
   "interpreter": {
    "hash": "40d3a090f54c6569ab1632332b64b2c03c39dcf918b08424e98f38b5ae0af88f"
   }
  }
 },
 "nbformat": 4,
 "nbformat_minor": 2
}
